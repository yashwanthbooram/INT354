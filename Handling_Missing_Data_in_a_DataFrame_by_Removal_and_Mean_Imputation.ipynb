{
  "nbformat": 4,
  "nbformat_minor": 0,
  "metadata": {
    "colab": {
      "provenance": [],
      "authorship_tag": "ABX9TyOVqaOsYui+tGtEyzLTe4XQ"
    },
    "kernelspec": {
      "name": "python3",
      "display_name": "Python 3"
    },
    "language_info": {
      "name": "python"
    }
  },
  "cells": [
    {
      "cell_type": "code",
      "execution_count": null,
      "metadata": {
        "colab": {
          "base_uri": "https://localhost:8080/"
        },
        "id": "p03u_P6RfVHu",
        "outputId": "75944132-f304-400f-c693-bf8b763ad67f"
      },
      "outputs": [
        {
          "output_type": "stream",
          "name": "stdout",
          "text": [
            "Original Dataframe\n",
            "      Name   Age   Salary\n",
            "0    Alice  25.0  50000.0\n",
            "1  Charlie  30.0  60000.0\n",
            "2    David   NaN  75000.0\n",
            "3      Eve  22.0      NaN\n",
            "\n",
            "Dataframe after removing missing values:\n",
            "      Name   Age   Salary\n",
            "0    Alice  25.0  50000.0\n",
            "1  Charlie  30.0  60000.0\n",
            "\n",
            "DataFrame after filling missing values:\n",
            "      Name        Age        Salary\n",
            "0    Alice  25.000000  50000.000000\n",
            "1  Charlie  30.000000  60000.000000\n",
            "2    David  25.666667  75000.000000\n",
            "3      Eve  22.000000  61666.666667\n"
          ]
        }
      ],
      "source": [
        "import pandas as pd\n",
        "data = {'Name': ['Alice','Charlie', 'David', 'Eve'],\n",
        "       'Age': [25, 30, None, 22],\n",
        "       'Salary': [50000, 60000, 75000, None]}\n",
        "df = pd.DataFrame(data)\n",
        "\n",
        "print(\"Original Dataframe\")\n",
        "print(df)\n",
        "\n",
        "df_cleaned = df.dropna()\n",
        "\n",
        "print(\"\\nDataframe after removing missing values:\")\n",
        "print(df_cleaned)\n",
        "\n",
        "mean_age = df['Age'].mean()\n",
        "mean_salary = df['Salary'].mean()\n",
        "\n",
        "df_filled = df.fillna({'Age':mean_age,'Salary': mean_salary})\n",
        "print(\"\\nDataFrame after filling missing values:\")\n",
        "print(df_filled)\n"
      ]
    }
  ]
}