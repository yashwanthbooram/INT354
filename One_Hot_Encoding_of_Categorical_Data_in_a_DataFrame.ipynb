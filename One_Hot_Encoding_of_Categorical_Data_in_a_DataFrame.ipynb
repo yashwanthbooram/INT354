{
  "nbformat": 4,
  "nbformat_minor": 0,
  "metadata": {
    "colab": {
      "provenance": [],
      "authorship_tag": "ABX9TyOl5PGzBny3BRsDDnUl/p0M"
    },
    "kernelspec": {
      "name": "python3",
      "display_name": "Python 3"
    },
    "language_info": {
      "name": "python"
    }
  },
  "cells": [
    {
      "cell_type": "code",
      "execution_count": null,
      "metadata": {
        "colab": {
          "base_uri": "https://localhost:8080/"
        },
        "id": "7OHQFRuclukK",
        "outputId": "cfa6191c-ed09-441c-ac90-1dfcdb3bf928"
      },
      "outputs": [
        {
          "output_type": "stream",
          "name": "stdout",
          "text": [
            "   color_blue  color_green  color_red\n",
            "0           0            0          1\n",
            "1           0            1          0\n",
            "2           1            0          0\n"
          ]
        }
      ],
      "source": [
        "import pandas as pd\n",
        "df = pd.DataFrame ({'color' :['red', 'green', 'blue']})\n",
        "df = pd.get_dummies(df, columns=['color'])\n",
        "print(df)"
      ]
    }
  ]
}